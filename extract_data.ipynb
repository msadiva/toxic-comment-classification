{
 "cells": [
  {
   "cell_type": "code",
   "execution_count": 1,
   "id": "fc48b74d-bfd2-4244-8e06-49012ee685bc",
   "metadata": {},
   "outputs": [
    {
     "name": "stdout",
     "output_type": "stream",
     "text": [
      "CPU times: user 3.89 s, sys: 1.39 s, total: 5.27 s\n",
      "Wall time: 6.49 s\n"
     ]
    }
   ],
   "source": [
    "%%time\n",
    "import fastai\n",
    "from fastai.text.all import *\n",
    "from pathlib import Path"
   ]
  },
  {
   "cell_type": "code",
   "execution_count": 2,
   "id": "4c11d9ab-cec6-4fad-b7cf-50a56babfb45",
   "metadata": {},
   "outputs": [
    {
     "name": "stdout",
     "output_type": "stream",
     "text": [
      "mkdir: cannot create directory ‘/home/.kaggle’: File exists\n"
     ]
    }
   ],
   "source": [
    "! mkdir ~/.kaggle"
   ]
  },
  {
   "cell_type": "code",
   "execution_count": 3,
   "id": "bfe3109e-5a4f-4121-ad5f-3ed6d2adab69",
   "metadata": {},
   "outputs": [],
   "source": [
    "! cp kaggle.json ~/.kaggle/"
   ]
  },
  {
   "cell_type": "code",
   "execution_count": 4,
   "id": "4a518590-1440-4eb1-81ae-75bebf45daa4",
   "metadata": {},
   "outputs": [],
   "source": [
    "! chmod 600 ~/.kaggle/kaggle.json"
   ]
  },
  {
   "cell_type": "code",
   "execution_count": 5,
   "id": "8cb9c7be-483e-449d-b2c1-a8a49a6f6a90",
   "metadata": {},
   "outputs": [
    {
     "name": "stdout",
     "output_type": "stream",
     "text": [
      "ref                                                         title                                               size  lastUpdated          downloadCount  voteCount  usabilityRating  \n",
      "----------------------------------------------------------  -------------------------------------------------  -----  -------------------  -------------  ---------  ---------------  \n",
      "nkitgupta/jigsaw-regression-based-data                      Jigsaw Regression Based Data                         3GB  2022-01-10 06:29:59            621         56  0.88235295       \n",
      "yamqwe/omicron-covid19-variant-daily-cases                  Omicron daily cases by country (COVID-19 variant)  432KB  2022-01-30 09:11:54          11197        506  1.0              \n",
      "prasertk/netflix-subscription-price-in-different-countries  Netflix subscription fee in different countries      3KB  2022-01-15 07:06:09           1464         42  1.0              \n",
      "yasserh/wine-quality-dataset                                Wine Quality Dataset                                21KB  2022-01-15 19:15:11           1344         57  1.0              \n",
      "iamsouravbanerjee/analytics-industry-salaries-2022-india    Data Professionals Salary - 2022                    56KB  2022-01-30 08:28:05           1672         53  1.0              \n",
      "yamqwe/netflix-showse                                       Netflix Shows                                       11KB  2022-01-23 00:03:01            626         23  1.0              \n",
      "sanjeetsinghnaik/top-1000-highest-grossing-movies           Top 1000 Highest Grossing Movies                   106KB  2022-01-15 16:26:14            860         45  1.0              \n",
      "yasserh/amazon-product-reviews-dataset                      Amazon Product Reviews Dataset                     708KB  2022-01-23 17:21:16            421         29  1.0              \n",
      "vishalmane10/anime-dataset-2022                             Anime DataSet 2022                                   5MB  2022-01-16 13:56:16            723         46  1.0              \n",
      "carlmcbrideellis/gdp-20152019-finland-norway-and-sweden     GDP 2015-2019: Finland, Norway, and Sweden          365B  2022-01-05 07:48:49            525         36  1.0              \n",
      "sandipdevre/petrol-prices-in-india                          Petrol Prices In India                               3KB  2022-01-27 09:07:35            232         12  1.0              \n",
      "dansbecker/melbourne-housing-snapshot                       Melbourne Housing Snapshot                         451KB  2018-06-05 12:52:24          79714        979  0.7058824        \n",
      "yamqwe/men-s-shoe-pricese                                   🩰 Men's Shoe Prices                                  6MB  2022-01-24 15:19:48            301         17  1.0              \n",
      "nenamalikah/nft-collections-by-sales-volume                 Top NFT Collections                                 47KB  2022-01-17 00:47:41            527         31  0.9411765        \n",
      "meetnagadia/netflix-stock-price-data-set-20022022           Netflix Stock Price Data set 2002-2022              94KB  2022-01-12 05:28:11            416         13  1.0              \n",
      "datasnaek/youtube-new                                       Trending YouTube Video Statistics                  201MB  2019-06-03 00:56:47         164642       4397  0.7941176        \n",
      "zynicide/wine-reviews                                       Wine Reviews                                        51MB  2017-11-27 17:08:04         153409       3253  0.7941176        \n",
      "fedesoriano/stellar-classification-dataset-sdss17           Stellar Classification Dataset - SDSS17              7MB  2022-01-15 17:11:30            423         47  1.0              \n",
      "rtatman/188-million-us-wildfires                            1.88 Million US Wildfires                          168MB  2020-05-12 21:03:49          18728        933  0.8235294        \n",
      "datasnaek/chess                                             Chess Game Dataset (Lichess)                         3MB  2017-09-04 03:09:09          27324        937  0.8235294        \n"
     ]
    }
   ],
   "source": [
    "! kaggle datasets list"
   ]
  },
  {
   "cell_type": "code",
   "execution_count": 6,
   "id": "17c79395-6fc3-487f-bbea-981923c41e78",
   "metadata": {},
   "outputs": [
    {
     "name": "stdout",
     "output_type": "stream",
     "text": [
      "Downloading jigsaw-toxic-comment-classification-challenge.zip to /home/toxic\n",
      " 97%|████████████████████████████████████▊ | 51.0M/52.6M [00:10<00:00, 2.60MB/s]\n",
      "100%|██████████████████████████████████████| 52.6M/52.6M [00:10<00:00, 5.49MB/s]\n"
     ]
    }
   ],
   "source": [
    "! kaggle competitions download -c jigsaw-toxic-comment-classification-challenge"
   ]
  },
  {
   "cell_type": "code",
   "execution_count": 7,
   "id": "d6b40433-3a82-4c94-bfa2-4a77ee1e2676",
   "metadata": {},
   "outputs": [
    {
     "name": "stdout",
     "output_type": "stream",
     "text": [
      "Archive:  jigsaw-toxic-comment-classification-challenge.zip\n",
      "  inflating: sample_submission.csv.zip  \n",
      "  inflating: test.csv.zip            \n",
      "  inflating: test_labels.csv.zip     \n",
      "  inflating: train.csv.zip           \n"
     ]
    }
   ],
   "source": [
    "! unzip jigsaw-toxic-comment-classification-challenge.zip"
   ]
  },
  {
   "cell_type": "code",
   "execution_count": 10,
   "id": "4afa2fdd-877a-4e3b-b2bd-4ed2ec694bee",
   "metadata": {},
   "outputs": [
    {
     "name": "stdout",
     "output_type": "stream",
     "text": [
      "Archive:  train.csv.zip\n",
      "  inflating: train.csv               \n"
     ]
    }
   ],
   "source": [
    "! unzip train.csv.zip "
   ]
  },
  {
   "cell_type": "code",
   "execution_count": 11,
   "id": "48798f05-93b1-4ec0-9908-07413b3f0d44",
   "metadata": {},
   "outputs": [
    {
     "name": "stdout",
     "output_type": "stream",
     "text": [
      "Archive:  test.csv.zip\n",
      "  inflating: test.csv                \n"
     ]
    }
   ],
   "source": [
    "! unzip test.csv.zip"
   ]
  },
  {
   "cell_type": "code",
   "execution_count": null,
   "id": "e3be9c56-da85-4a25-bd50-54912ff1adab",
   "metadata": {},
   "outputs": [],
   "source": []
  }
 ],
 "metadata": {
  "kernelspec": {
   "display_name": "Python 3 (ipykernel)",
   "language": "python",
   "name": "python3"
  },
  "language_info": {
   "codemirror_mode": {
    "name": "ipython",
    "version": 3
   },
   "file_extension": ".py",
   "mimetype": "text/x-python",
   "name": "python",
   "nbconvert_exporter": "python",
   "pygments_lexer": "ipython3",
   "version": "3.8.12"
  }
 },
 "nbformat": 4,
 "nbformat_minor": 5
}
